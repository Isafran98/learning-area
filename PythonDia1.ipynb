{
  "nbformat": 4,
  "nbformat_minor": 0,
  "metadata": {
    "colab": {
      "provenance": [],
      "authorship_tag": "ABX9TyPh+k0UEtN6hIZeBBHXkTua",
      "include_colab_link": true
    },
    "kernelspec": {
      "name": "python3",
      "display_name": "Python 3"
    },
    "language_info": {
      "name": "python"
    }
  },
  "cells": [
    {
      "cell_type": "markdown",
      "metadata": {
        "id": "view-in-github",
        "colab_type": "text"
      },
      "source": [
        "<a href=\"https://colab.research.google.com/github/Isafran98/learning-area/blob/main/PythonDia1.ipynb\" target=\"_parent\"><img src=\"https://colab.research.google.com/assets/colab-badge.svg\" alt=\"Open In Colab\"/></a>"
      ]
    },
    {
      "cell_type": "markdown",
      "source": [
        "#Tipos de Datos\n"
      ],
      "metadata": {
        "id": "YeL9UM819Iy_"
      }
    },
    {
      "cell_type": "code",
      "source": [
        "# Entero\n",
        "\n",
        "entero = 12\n",
        "\n",
        "print(type(entero))\n",
        "\n"
      ],
      "metadata": {
        "id": "8wp3foMQ9Owi",
        "colab": {
          "base_uri": "https://localhost:8080/"
        },
        "outputId": "c545ecaf-58e5-47c9-eb8d-811621164f79"
      },
      "execution_count": null,
      "outputs": [
        {
          "output_type": "stream",
          "name": "stdout",
          "text": [
            "<class 'int'>\n"
          ]
        }
      ]
    },
    {
      "cell_type": "code",
      "source": [
        "#Flotante, Real, Float\n",
        "\n",
        "real = 11.3\n",
        "\n",
        "print(type(real))\n"
      ],
      "metadata": {
        "colab": {
          "base_uri": "https://localhost:8080/"
        },
        "id": "Ir_xXSPGBr1V",
        "outputId": "1c0a08a2-7e2b-491b-c04a-bbf13fc1f7bd"
      },
      "execution_count": null,
      "outputs": [
        {
          "output_type": "stream",
          "name": "stdout",
          "text": [
            "<class 'float'>\n"
          ]
        }
      ]
    },
    {
      "cell_type": "code",
      "source": [
        "#Complejos\n",
        "\n",
        "complejo = 4 + 8j\n",
        "\n",
        "print(type(complejo))\n"
      ],
      "metadata": {
        "colab": {
          "base_uri": "https://localhost:8080/"
        },
        "id": "qTSJQi8xEH3j",
        "outputId": "d4b6242c-3c91-429d-f1c3-9ab02fabadfb"
      },
      "execution_count": null,
      "outputs": [
        {
          "output_type": "stream",
          "name": "stdout",
          "text": [
            "<class 'complex'>\n"
          ]
        }
      ]
    },
    {
      "cell_type": "code",
      "source": [
        "#Cadenas o Strings\n",
        "\n",
        "cadena = 'Blockdemy'\n",
        "\n",
        "verdadero = True"
      ],
      "metadata": {
        "id": "i0Kuve4PEqPc"
      },
      "execution_count": null,
      "outputs": []
    },
    {
      "cell_type": "code",
      "source": [
        "#Operadores Matemáticos\n",
        "\n",
        "#Suma\n",
        "\n",
        "print(2 + 2)\n",
        "\n",
        "#Resta\n",
        "\n",
        "print(5 - 2)\n",
        "\n",
        "#Multiplicación\n",
        "\n",
        "print(9*4)\n",
        "\n",
        "#División\n",
        "\n",
        "print(9/4)\n",
        "\n",
        "#División Entera //\n",
        "\n",
        "print(9//4)\n",
        "\n",
        "#Módulo o Residuo %\n",
        "print(15%2)\n",
        "\n",
        "#Exponente **\n",
        "\n",
        "print(4**2)\n",
        "\n",
        "#Valor Absoluto abs()\n",
        "\n",
        "print (abs(-5))\n",
        "\n"
      ],
      "metadata": {
        "colab": {
          "base_uri": "https://localhost:8080/"
        },
        "id": "cYWaoVzzFOB1",
        "outputId": "c4da51f9-d964-41e7-d949-0dfd74fe2fa3"
      },
      "execution_count": 3,
      "outputs": [
        {
          "output_type": "stream",
          "name": "stdout",
          "text": [
            "4\n",
            "3\n",
            "36\n",
            "2.25\n",
            "2\n",
            "1\n",
            "16\n",
            "5\n"
          ]
        }
      ]
    },
    {
      "cell_type": "code",
      "source": [
        "#Operadores Relacionales\n",
        "\n",
        "#Mayor que >\n",
        "\n",
        "print(25>14)\n",
        "\n",
        "#Menor que <\n",
        "\n",
        "print(2<4)\n",
        "\n",
        "#Mayor o igual que >=\n",
        "\n",
        "print(25>=25)\n",
        "\n",
        "#Menor o igual que <=\n",
        "\n",
        "print(25<=40)\n",
        "\n",
        "#Igual Comparación ==\n",
        "\n",
        "print('perro'=='perro')\n",
        "\n",
        "#Igual Comparación ==\n",
        "variable = 'perro'\n",
        "print('perro'==variable)\n",
        "\n",
        "#Diferente de !=\n",
        "\n",
        "print(9!=9)"
      ],
      "metadata": {
        "colab": {
          "base_uri": "https://localhost:8080/"
        },
        "id": "BlGgyjJErTOz",
        "outputId": "f888e0d7-4e3f-4984-e450-564713bcfe29"
      },
      "execution_count": 11,
      "outputs": [
        {
          "output_type": "stream",
          "name": "stdout",
          "text": [
            "True\n",
            "True\n",
            "True\n",
            "True\n",
            "True\n",
            "True\n",
            "False\n"
          ]
        }
      ]
    }
  ]
}