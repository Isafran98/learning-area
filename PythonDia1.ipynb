{
  "nbformat": 4,
  "nbformat_minor": 0,
  "metadata": {
    "colab": {
      "provenance": [],
      "authorship_tag": "ABX9TyPmcCix8DOFGed46LwNVJCT",
      "include_colab_link": true
    },
    "kernelspec": {
      "name": "python3",
      "display_name": "Python 3"
    },
    "language_info": {
      "name": "python"
    }
  },
  "cells": [
    {
      "cell_type": "markdown",
      "metadata": {
        "id": "view-in-github",
        "colab_type": "text"
      },
      "source": [
        "<a href=\"https://colab.research.google.com/github/Isafran98/learning-area/blob/main/PythonDia1.ipynb\" target=\"_parent\"><img src=\"https://colab.research.google.com/assets/colab-badge.svg\" alt=\"Open In Colab\"/></a>"
      ]
    },
    {
      "cell_type": "markdown",
      "source": [
        "#Tipos de Datos\n"
      ],
      "metadata": {
        "id": "YeL9UM819Iy_"
      }
    },
    {
      "cell_type": "code",
      "source": [
        "# Entero\n",
        "\n",
        "entero = 12\n",
        "\n",
        "print(type(entero))\n",
        "\n"
      ],
      "metadata": {
        "id": "8wp3foMQ9Owi",
        "colab": {
          "base_uri": "https://localhost:8080/"
        },
        "outputId": "476a9820-924f-4b94-cfbd-d903fd6771b6"
      },
      "execution_count": 25,
      "outputs": [
        {
          "output_type": "stream",
          "name": "stdout",
          "text": [
            "<class 'int'>\n"
          ]
        }
      ]
    },
    {
      "cell_type": "code",
      "source": [
        "# Flotante, Real, Float\n",
        "\n",
        "real = 11.3\n",
        "\n",
        "print(type(real))\n"
      ],
      "metadata": {
        "colab": {
          "base_uri": "https://localhost:8080/"
        },
        "id": "Ir_xXSPGBr1V",
        "outputId": "c0769f63-45b2-43fe-a254-b735d9c62acf"
      },
      "execution_count": 26,
      "outputs": [
        {
          "output_type": "stream",
          "name": "stdout",
          "text": [
            "<class 'float'>\n"
          ]
        }
      ]
    },
    {
      "cell_type": "code",
      "source": [
        "# Complejos\n",
        "\n",
        "complejo = 4 + 8j\n",
        "\n",
        "print(type(complejo))\n"
      ],
      "metadata": {
        "colab": {
          "base_uri": "https://localhost:8080/"
        },
        "id": "qTSJQi8xEH3j",
        "outputId": "5adc3553-53bf-454b-a445-37effa7b3ba5"
      },
      "execution_count": 27,
      "outputs": [
        {
          "output_type": "stream",
          "name": "stdout",
          "text": [
            "<class 'complex'>\n"
          ]
        }
      ]
    },
    {
      "cell_type": "code",
      "source": [
        "# Cadenas o Strings\n",
        "\n",
        "cadena = 'Blockdemy'\n",
        "\n",
        "verdadero = True"
      ],
      "metadata": {
        "id": "i0Kuve4PEqPc"
      },
      "execution_count": 28,
      "outputs": []
    },
    {
      "cell_type": "code",
      "source": [
        "# Operadores Matemáticos\n",
        "\n",
        "# Suma\n",
        "\n",
        "print(2 + 2)\n",
        "\n",
        "# Resta\n",
        "\n",
        "print(5 - 2)\n",
        "\n",
        "# Multiplicación\n",
        "\n",
        "print(9*4)\n",
        "\n",
        "# División\n",
        "\n",
        "print(9/4)\n",
        "\n",
        "# División Entera //\n",
        "\n",
        "print(9//4)\n",
        "\n",
        "# Módulo o Residuo %\n",
        "print(15%2)\n",
        "\n",
        "# Exponente **\n",
        "\n",
        "print(4**2)\n",
        "\n",
        "# Valor Absoluto abs()\n",
        "\n",
        "print (abs(-5))\n",
        "\n"
      ],
      "metadata": {
        "colab": {
          "base_uri": "https://localhost:8080/"
        },
        "id": "cYWaoVzzFOB1",
        "outputId": "2cdae717-5574-4e5e-c12c-812470b54e85"
      },
      "execution_count": 29,
      "outputs": [
        {
          "output_type": "stream",
          "name": "stdout",
          "text": [
            "4\n",
            "3\n",
            "36\n",
            "2.25\n",
            "2\n",
            "1\n",
            "16\n",
            "5\n"
          ]
        }
      ]
    },
    {
      "cell_type": "code",
      "source": [
        "# Operadores Relacionales nos regresa un valor booleano\n",
        "\n",
        "# Mayor que >\n",
        "\n",
        "print(25>14)\n",
        "\n",
        "# Menor que <\n",
        "\n",
        "print(2<4)\n",
        "\n",
        "# Mayor o igual que >=\n",
        "\n",
        "print(25>=25)\n",
        "\n",
        "# Menor o igual que <=\n",
        "\n",
        "print(25<=40)\n",
        "\n",
        "# Igual Comparación ==\n",
        "\n",
        "print('perro'=='perro')\n",
        "\n",
        "# Igual Comparación ==\n",
        "variable = 'perro'\n",
        "print('perro'==variable)\n",
        "\n",
        "# Diferente de !=\n",
        "\n",
        "print(9!=9)"
      ],
      "metadata": {
        "colab": {
          "base_uri": "https://localhost:8080/"
        },
        "id": "BlGgyjJErTOz",
        "outputId": "f43d082a-7993-403f-af2e-1a8bcf900a37"
      },
      "execution_count": 30,
      "outputs": [
        {
          "output_type": "stream",
          "name": "stdout",
          "text": [
            "True\n",
            "True\n",
            "True\n",
            "True\n",
            "True\n",
            "True\n",
            "False\n"
          ]
        }
      ]
    },
    {
      "cell_type": "code",
      "source": [
        "# Operadores lógicos\n",
        "\n",
        "# Y and\n",
        "\n",
        "cond1 = 1<5\n",
        "cond2 = 1<10\n",
        "\n",
        "print(cond1 and cond2)\n",
        "\n",
        "print(True and True)\n",
        "\n",
        "# O or\n",
        "\n",
        "print(cond1 or cond2)\n",
        "\n",
        "print(True or False)\n",
        "\n",
        "# Operador identidad is\n",
        "\n",
        "# No es lo mismo que == print(False == 0)\n",
        "print(False == 0)\n",
        "\n",
        "#Negación NOT ... Es diferente a !=\n",
        "\n",
        "print(not True)\n",
        "\n",
        "#Contenido en in\n",
        "\n",
        "lista = ['perro', 'gato', 'ratón']\n",
        "\n",
        "print('perro'in lista)\n",
        "\n",
        "print('k' in 'blockdemy')\n",
        "\n",
        "# no contenido NOT in\n",
        "\n",
        "print('w' not in 'blockdemy')\n",
        "\n",
        "#negación identidad is not\n",
        "\n",
        "print(True is not 1)"
      ],
      "metadata": {
        "colab": {
          "base_uri": "https://localhost:8080/"
        },
        "id": "SzHDx5jSPi9E",
        "outputId": "4ba8d295-da65-44d7-aad7-ce79f84a7fcd"
      },
      "execution_count": 28,
      "outputs": [
        {
          "output_type": "stream",
          "name": "stdout",
          "text": [
            "True\n",
            "True\n",
            "True\n",
            "True\n",
            "True\n",
            "False\n",
            "True\n",
            "True\n",
            "True\n",
            "True\n"
          ]
        },
        {
          "output_type": "stream",
          "name": "stderr",
          "text": [
            "<>:41: SyntaxWarning: \"is not\" with a literal. Did you mean \"!=\"?\n",
            "<>:41: SyntaxWarning: \"is not\" with a literal. Did you mean \"!=\"?\n",
            "<ipython-input-28-cdf39ff8db29>:41: SyntaxWarning: \"is not\" with a literal. Did you mean \"!=\"?\n",
            "  print(True is not 1)\n"
          ]
        }
      ]
    }
  ]
}