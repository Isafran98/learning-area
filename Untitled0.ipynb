{
  "nbformat": 4,
  "nbformat_minor": 0,
  "metadata": {
    "colab": {
      "provenance": [],
      "authorship_tag": "ABX9TyOgnXgGK56Y4SMaGd4tXcBQ",
      "include_colab_link": true
    },
    "kernelspec": {
      "name": "python3",
      "display_name": "Python 3"
    },
    "language_info": {
      "name": "python"
    }
  },
  "cells": [
    {
      "cell_type": "markdown",
      "metadata": {
        "id": "view-in-github",
        "colab_type": "text"
      },
      "source": [
        "<a href=\"https://colab.research.google.com/github/Isafran98/learning-area/blob/main/Untitled0.ipynb\" target=\"_parent\"><img src=\"https://colab.research.google.com/assets/colab-badge.svg\" alt=\"Open In Colab\"/></a>"
      ]
    },
    {
      "cell_type": "markdown",
      "source": [
        "#CONTROL DE FLUJO\n",
        "\n",
        "## sentencia if"
      ],
      "metadata": {
        "id": "F6IWT3ghSGi-"
      }
    },
    {
      "cell_type": "code",
      "source": [
        "# sentencia if\n",
        "\n",
        "# sentencia if (condición):\n",
        "\n",
        "edad = 15\n",
        "if(edad<=17):\n",
        "  print('eres menor de edad')\n",
        "if (edad>=18):\n",
        "  print('eres mayor de edad')"
      ],
      "metadata": {
        "colab": {
          "base_uri": "https://localhost:8080/"
        },
        "id": "12BVOYLZSYw-",
        "outputId": "d42dbd39-f9bd-400b-84e3-ef5f5dfe96cc"
      },
      "execution_count": 5,
      "outputs": [
        {
          "output_type": "stream",
          "name": "stdout",
          "text": [
            "eres menor de edad\n"
          ]
        }
      ]
    },
    {
      "cell_type": "code",
      "source": [
        "# otro ejemplo de if\n",
        "\n",
        "número1 = int(input('Dame un número'))\n",
        "número2 = int(input('Dame otro número'))\n",
        "\n",
        "print(type(número1))\n",
        "print(type(número2))\n",
        "\n",
        "\n"
      ],
      "metadata": {
        "colab": {
          "base_uri": "https://localhost:8080/"
        },
        "id": "cK559slMUjbG",
        "outputId": "3ca01c71-58cc-4037-ac73-26abb79810c7"
      },
      "execution_count": 11,
      "outputs": [
        {
          "output_type": "stream",
          "name": "stdout",
          "text": [
            "Dame un número67\n",
            "Dame otro número67\n",
            "<class 'int'>\n",
            "<class 'int'>\n"
          ]
        }
      ]
    }
  ]
}