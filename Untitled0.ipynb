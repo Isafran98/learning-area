{
  "nbformat": 4,
  "nbformat_minor": 0,
  "metadata": {
    "colab": {
      "provenance": [],
      "authorship_tag": "ABX9TyOL4Ga4EGbXDzsfu3FEjOko",
      "include_colab_link": true
    },
    "kernelspec": {
      "name": "python3",
      "display_name": "Python 3"
    },
    "language_info": {
      "name": "python"
    }
  },
  "cells": [
    {
      "cell_type": "markdown",
      "metadata": {
        "id": "view-in-github",
        "colab_type": "text"
      },
      "source": [
        "<a href=\"https://colab.research.google.com/github/Isafran98/learning-area/blob/main/Untitled0.ipynb\" target=\"_parent\"><img src=\"https://colab.research.google.com/assets/colab-badge.svg\" alt=\"Open In Colab\"/></a>"
      ]
    },
    {
      "cell_type": "markdown",
      "source": [
        "#CONTROL DE FLUJO\n",
        "\n",
        "## sentencia if"
      ],
      "metadata": {
        "id": "F6IWT3ghSGi-"
      }
    },
    {
      "cell_type": "code",
      "source": [
        "# sentencia if\n",
        "\n",
        "# sentencia if (condición):\n",
        "\n",
        "edad = 15\n",
        "if(edad<=17):\n",
        "  print('eres menor de edad')\n",
        "if (edad>=18):\n",
        "  print('eres mayor de edad')"
      ],
      "metadata": {
        "colab": {
          "base_uri": "https://localhost:8080/"
        },
        "id": "12BVOYLZSYw-",
        "outputId": "d42dbd39-f9bd-400b-84e3-ef5f5dfe96cc"
      },
      "execution_count": 5,
      "outputs": [
        {
          "output_type": "stream",
          "name": "stdout",
          "text": [
            "eres menor de edad\n"
          ]
        }
      ]
    },
    {
      "cell_type": "code",
      "source": [
        "# otro ejemplo de if\n",
        "\n",
        "número1 = int(input('Dame un número'))\n",
        "número2 = int(input('Dame otro número'))\n",
        "\n",
        "# print(type(número1))\n",
        "# print(type(número2))\n",
        "\n",
        "if(número1 > número2):\n",
        "\n",
        "  cadena1 = 'el número más grande es:'\n",
        "\n",
        "  cadena2 = str(número1)\n",
        "\n",
        "  print(cadena1 + cadena2)\n",
        "\n",
        "  \n",
        "\n",
        "if(número1 < número2):\n",
        "\n",
        "  print('el número más grande es el segundo')\n",
        "\n",
        " \n",
        "\n",
        "\n",
        "\n",
        "\n"
      ],
      "metadata": {
        "colab": {
          "base_uri": "https://localhost:8080/"
        },
        "id": "cK559slMUjbG",
        "outputId": "c0aabaee-533c-46f0-897b-0cd43af049d6"
      },
      "execution_count": 39,
      "outputs": [
        {
          "output_type": "stream",
          "name": "stdout",
          "text": [
            "Dame un número2\n",
            "Dame otro número34\n",
            "el número más grande es el segundo\n"
          ]
        }
      ]
    }
  ]
}